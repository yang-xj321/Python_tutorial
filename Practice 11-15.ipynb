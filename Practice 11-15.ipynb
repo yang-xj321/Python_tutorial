{
 "cells": [
  {
   "cell_type": "code",
   "execution_count": 1,
   "metadata": {},
   "outputs": [],
   "source": [
    "## Python3 教程\n",
    "# https://www.runoob.com/python3/python3-tutorial.html\n",
    "\n",
    "# 第一步：安装 Anaconda。\n",
    "# 第二步：在任意目录下，shift+右键，打开 PowerShell。\n",
    "# 第三步：在 PowerShell 中运行 jupyter notebook。\n",
    "# 第四步：新建一个 notebook 文件并保存，然后开始学习。"
   ]
  },
  {
   "cell_type": "code",
   "execution_count": 2,
   "metadata": {},
   "outputs": [
    {
     "name": "stdout",
     "output_type": "stream",
     "text": [
      "list1[0]:  Google\n",
      "list2[1:5]:  [2, 3, 4, 5]\n"
     ]
    }
   ],
   "source": [
    "## Python3 列表\n",
    "# 访问列表中的值\n",
    "#!/usr/bin/python3\n",
    " \n",
    "list1 = ['Google', 'Runoob', 1997, 2000];\n",
    "list2 = [1, 2, 3, 4, 5, 6, 7 ];\n",
    " \n",
    "print (\"list1[0]: \", list1[0])          # 使用下标索引来访问列表中的值\n",
    "print (\"list2[1:5]: \", list2[1:5])"
   ]
  },
  {
   "cell_type": "code",
   "execution_count": 3,
   "metadata": {},
   "outputs": [
    {
     "name": "stdout",
     "output_type": "stream",
     "text": [
      "第三个元素为 :  1997\n",
      "更新后的第三个元素为 :  2001\n"
     ]
    }
   ],
   "source": [
    "## Python3 列表\n",
    "# 更新上一个列表\n",
    "list = ['Google', 'Runoob', 1997, 2000]\n",
    " \n",
    "print (\"第三个元素为 : \", list[2])     # 也可以使用append()方法来添加列表项\n",
    "list[2] = 2001                         # 对列表的数据项进行修改或更新\n",
    "print (\"更新后的第三个元素为 : \", list[2])"
   ]
  },
  {
   "cell_type": "code",
   "execution_count": 4,
   "metadata": {},
   "outputs": [
    {
     "name": "stdout",
     "output_type": "stream",
     "text": [
      "原始列表 :  ['Google', 'Runoob', 1997, 2000]\n",
      "删除第三个元素 :  ['Google', 'Runoob', 2000]\n"
     ]
    }
   ],
   "source": [
    "## Python3 列表\n",
    "# 删除列表元素\n",
    "list = ['Google', 'Runoob', 1997, 2000]\n",
    " \n",
    "print (\"原始列表 : \", list)\n",
    "del list[2]                            # 使用 del 语句来删除列表的的元素\n",
    "print (\"删除第三个元素 : \", list)"
   ]
  },
  {
   "cell_type": "code",
   "execution_count": 5,
   "metadata": {},
   "outputs": [
    {
     "data": {
      "text/plain": [
       "['Runoob', 'Taobao']"
      ]
     },
     "execution_count": 5,
     "metadata": {},
     "output_type": "execute_result"
    }
   ],
   "source": [
    "## Python3 列表\n",
    "# Python列表截取与拼接\n",
    "L=['Google', 'Runoob', 'Taobao']\n",
    "L[2]\n",
    "'Taobao'\n",
    "L[-2]\n",
    "'Runoob'\n",
    "L[1:]"
   ]
  },
  {
   "cell_type": "code",
   "execution_count": 6,
   "metadata": {},
   "outputs": [
    {
     "data": {
      "text/plain": [
       "[1, 4, 9, 16, 25, 36, 49, 64, 81, 100]"
      ]
     },
     "execution_count": 6,
     "metadata": {},
     "output_type": "execute_result"
    }
   ],
   "source": [
    "## Python3 列表\n",
    "# Python列表截取与拼接\n",
    "squares = [1, 4, 9, 16, 25]             # 列表还支持拼接操作\n",
    "squares += [36, 49, 64, 81, 100]\n",
    "squares"
   ]
  },
  {
   "cell_type": "code",
   "execution_count": 7,
   "metadata": {},
   "outputs": [
    {
     "data": {
      "text/plain": [
       "'b'"
      ]
     },
     "execution_count": 7,
     "metadata": {},
     "output_type": "execute_result"
    }
   ],
   "source": [
    "## Python3 列表\n",
    "# 嵌套列表\n",
    "a = ['a', 'b', 'c']                     # 使用嵌套列表即在列表里创建其它列表\n",
    "n = [1, 2, 3]\n",
    "x = [a, n]\n",
    "x\n",
    "[['a', 'b', 'c'], [1, 2, 3]]\n",
    "x[0]\n",
    "['a', 'b', 'c']\n",
    "x[0][1]\n",
    "'b'"
   ]
  },
  {
   "cell_type": "code",
   "execution_count": 8,
   "metadata": {},
   "outputs": [
    {
     "data": {
      "text/plain": [
       "tuple"
      ]
     },
     "execution_count": 8,
     "metadata": {},
     "output_type": "execute_result"
    }
   ],
   "source": [
    "## Python3 元组\n",
    "# 元组创建\n",
    "tup1 = ('Google', 'Runoob', 1997, 2000);\n",
    "tup2 = (1, 2, 3, 4, 5 );\n",
    "tup3 = \"a\", \"b\", \"c\", \"d\";             #  不需要括号也可以\n",
    "type(tup3)"
   ]
  },
  {
   "cell_type": "code",
   "execution_count": 9,
   "metadata": {},
   "outputs": [
    {
     "data": {
      "text/plain": [
       "tuple"
      ]
     },
     "execution_count": 9,
     "metadata": {},
     "output_type": "execute_result"
    }
   ],
   "source": [
    "## Python3 元组\n",
    "# 元组创建\n",
    "tup1 = (50)\n",
    "type(tup1)                             # 不加逗号，类型为整型\n",
    "tup1 = (50,)\n",
    "type(tup1)                             # 加上逗号，类型为元组"
   ]
  },
  {
   "cell_type": "code",
   "execution_count": 10,
   "metadata": {},
   "outputs": [
    {
     "name": "stdout",
     "output_type": "stream",
     "text": [
      "tup1[0]:  Google\n",
      "tup2[1:5]:  (2, 3, 4, 5)\n"
     ]
    }
   ],
   "source": [
    "## Python3 元组\n",
    "# 访问元组                              # Python 的元组与列表类似，不同之处在于元组的元素不能修改。\n",
    "tup1 = ('Google', 'Runoob', 1997, 2000)\n",
    "tup2 = (1, 2, 3, 4, 5, 6, 7 )           # 元组使用小括号，列表使用方括号。\n",
    " \n",
    "print (\"tup1[0]: \", tup1[0])            # 使用下标索引来访问元组中的值\n",
    "print (\"tup2[1:5]: \", tup2[1:5])"
   ]
  },
  {
   "cell_type": "code",
   "execution_count": 11,
   "metadata": {},
   "outputs": [
    {
     "name": "stdout",
     "output_type": "stream",
     "text": [
      "(12, 34.56, 'abc', 'xyz')\n"
     ]
    }
   ],
   "source": [
    "## Python3 元组\n",
    "# 修改元组\n",
    "tup1 = (12, 34.56);\n",
    "tup2 = ('abc', 'xyz')                   # 元组中的元素值是不允许修改的，但我们可以对元组进行连接组合\n",
    " \n",
    "# 以下修改元组元素操作是非法的。\n",
    "# tup1[0] = 100\n",
    " \n",
    "# 创建一个新的元组\n",
    "tup3 = tup1 + tup2;\n",
    "print (tup3)"
   ]
  },
  {
   "cell_type": "code",
   "execution_count": 12,
   "metadata": {},
   "outputs": [
    {
     "name": "stdout",
     "output_type": "stream",
     "text": [
      "('Google', 'Runoob', 1997, 2000)\n",
      "删除后的元组 tup : \n"
     ]
    },
    {
     "ename": "NameError",
     "evalue": "name 'tup' is not defined",
     "output_type": "error",
     "traceback": [
      "\u001b[1;31m---------------------------------------------------------------------------\u001b[0m",
      "\u001b[1;31mNameError\u001b[0m                                 Traceback (most recent call last)",
      "\u001b[1;32m<ipython-input-12-aa82027b4806>\u001b[0m in \u001b[0;36m<module>\u001b[1;34m\u001b[0m\n\u001b[0;32m      6\u001b[0m \u001b[1;32mdel\u001b[0m \u001b[0mtup\u001b[0m\u001b[1;33m;\u001b[0m\u001b[1;33m\u001b[0m\u001b[1;33m\u001b[0m\u001b[0m\n\u001b[0;32m      7\u001b[0m \u001b[0mprint\u001b[0m \u001b[1;33m(\u001b[0m\u001b[1;34m\"删除后的元组 tup : \"\u001b[0m\u001b[1;33m)\u001b[0m\u001b[1;33m\u001b[0m\u001b[1;33m\u001b[0m\u001b[0m\n\u001b[1;32m----> 8\u001b[1;33m \u001b[0mprint\u001b[0m \u001b[1;33m(\u001b[0m\u001b[0mtup\u001b[0m\u001b[1;33m)\u001b[0m\u001b[1;33m\u001b[0m\u001b[1;33m\u001b[0m\u001b[0m\n\u001b[0m",
      "\u001b[1;31mNameError\u001b[0m: name 'tup' is not defined"
     ]
    }
   ],
   "source": [
    "## Python3 元组\n",
    "# 删除元组 \n",
    "tup = ('Google', 'Runoob', 1997, 2000)  # 元组中的元素值是不允许删除的，但我们可以使用del语句来删除整个元组\n",
    " \n",
    "print (tup)\n",
    "del tup;\n",
    "print (\"删除后的元组 tup : \")\n",
    "print (tup)"
   ]
  },
  {
   "cell_type": "code",
   "execution_count": 13,
   "metadata": {},
   "outputs": [
    {
     "name": "stdout",
     "output_type": "stream",
     "text": [
      "User(name='tester', age='22', id='464643123')\n"
     ]
    }
   ],
   "source": [
    "## Python3 元组\n",
    "# 课后笔记 \n",
    "# 声明一个具名元组\n",
    "import collections\n",
    "User = collections.namedtuple('User', 'name age id') # 两种方法来给 namedtuple 定义方法名\n",
    "user = User('tester', '22', '464643123')             # User = collections.namedtuple('User', ['name', 'age', 'id'])\n",
    "print(user)"
   ]
  },
  {
   "cell_type": "code",
   "execution_count": 14,
   "metadata": {},
   "outputs": [
    {
     "name": "stdout",
     "output_type": "stream",
     "text": [
      "('name', 'sex', 'age')\n",
      "User(name='Runoob', sex='male', age=12)\n",
      "Runoob\n",
      "male\n",
      "12\n",
      "User(name='Runoob', sex='male', age=22)\n",
      "OrderedDict([('name', 'Runoob'), ('sex', 'male'), ('age', 22)])\n"
     ]
    }
   ],
   "source": [
    "## Python3 元组\n",
    "# 课后笔记 \n",
    "# 具名元组的特有属性\n",
    "from collections import namedtuple\n",
    "\n",
    "User = namedtuple('User', ['name', 'sex', 'age'])  # 定义一个namedtuple类型User，并包含name，sex和age属性。\n",
    "\n",
    "user = User(name='Runoob', sex='male', age=12)    # 创建一个User对象\n",
    "print( user._fields )                             # 获取所有字段名\n",
    "user = User._make(['Runoob', 'male', 12])         # 也可以通过一个list来创建一个User对象，这里注意需要使用\"_make\"方法\n",
    "print( user )\n",
    "                                                  # User(name='user1', sex='male', age=12)\n",
    "print( user.name )                                # 获取用户的属性\n",
    "print( user.sex )\n",
    "print( user.age )\n",
    "\n",
    "user = user._replace(age=22)                      # 修改对象属性，注意要使用\"_replace\"方法\n",
    "\n",
    "print( user )\n",
    "                                                  # User(name='user1', sex='male', age=21)\n",
    "                                                  # 将User对象转换成字典，注意要使用\"_asdict\"\n",
    "print( user._asdict() )\n",
    "                                                  # OrderedDict([('name', 'Runoob'), ('sex', 'male'), ('age', 22)])"
   ]
  },
  {
   "cell_type": "code",
   "execution_count": 15,
   "metadata": {},
   "outputs": [
    {
     "name": "stdout",
     "output_type": "stream",
     "text": [
      "dict['Name']:  Runoob\n",
      "dict['Age']:  7\n"
     ]
    }
   ],
   "source": [
    "## Python3 字典\n",
    "# 访问字典里的值\n",
    "dict = {'Name': 'Runoob', 'Age': 7, 'Class': 'First'}\n",
    " \n",
    "print (\"dict['Name']: \", dict['Name'])\n",
    "print (\"dict['Age']: \", dict['Age'])"
   ]
  },
  {
   "cell_type": "code",
   "execution_count": 16,
   "metadata": {},
   "outputs": [
    {
     "name": "stdout",
     "output_type": "stream",
     "text": [
      "dict['Age']:  8\n",
      "dict['School']:  菜鸟教程\n"
     ]
    }
   ],
   "source": [
    "## Python3 字典\n",
    "# 修改字典\n",
    "dict = {'Name': 'Runoob', 'Age': 7, 'Class': 'First'} # 向字典添加新内容的方法是增加新的键/值对，修改或删除已有键/值对\n",
    " \n",
    "dict['Age'] = 8                                       # 更新 Age\n",
    "dict['School'] = \"菜鸟教程\"                           # 添加信息\n",
    " \n",
    " \n",
    "print (\"dict['Age']: \", dict['Age'])\n",
    "print (\"dict['School']: \", dict['School'])"
   ]
  },
  {
   "cell_type": "code",
   "execution_count": 17,
   "metadata": {},
   "outputs": [
    {
     "ename": "KeyError",
     "evalue": "'Alice'",
     "output_type": "error",
     "traceback": [
      "\u001b[1;31m---------------------------------------------------------------------------\u001b[0m",
      "\u001b[1;31mKeyError\u001b[0m                                  Traceback (most recent call last)",
      "\u001b[1;32m<ipython-input-17-5b2d5c688aa7>\u001b[0m in \u001b[0;36m<module>\u001b[1;34m\u001b[0m\n\u001b[0;32m      3\u001b[0m \u001b[0mdict\u001b[0m \u001b[1;33m=\u001b[0m \u001b[1;33m{\u001b[0m\u001b[1;34m'Name'\u001b[0m\u001b[1;33m:\u001b[0m \u001b[1;34m'Runoob'\u001b[0m\u001b[1;33m,\u001b[0m \u001b[1;34m'Age'\u001b[0m\u001b[1;33m:\u001b[0m \u001b[1;36m7\u001b[0m\u001b[1;33m,\u001b[0m \u001b[1;34m'Class'\u001b[0m\u001b[1;33m:\u001b[0m \u001b[1;34m'First'\u001b[0m\u001b[1;33m}\u001b[0m\u001b[1;33m\u001b[0m\u001b[1;33m\u001b[0m\u001b[0m\n\u001b[0;32m      4\u001b[0m                                                   \u001b[1;31m# 如果用字典里没有的键访问数据，会输出错误\u001b[0m\u001b[1;33m\u001b[0m\u001b[1;33m\u001b[0m\u001b[1;33m\u001b[0m\u001b[0m\n\u001b[1;32m----> 5\u001b[1;33m \u001b[0mprint\u001b[0m \u001b[1;33m(\u001b[0m\u001b[1;34m\"dict['Alice']: \"\u001b[0m\u001b[1;33m,\u001b[0m \u001b[0mdict\u001b[0m\u001b[1;33m[\u001b[0m\u001b[1;34m'Alice'\u001b[0m\u001b[1;33m]\u001b[0m\u001b[1;33m)\u001b[0m\u001b[1;33m\u001b[0m\u001b[1;33m\u001b[0m\u001b[0m\n\u001b[0m",
      "\u001b[1;31mKeyError\u001b[0m: 'Alice'"
     ]
    }
   ],
   "source": [
    "## Python3 字典\n",
    "# 访问字典里的值\n",
    "dict = {'Name': 'Runoob', 'Age': 7, 'Class': 'First'}\n",
    "                                                  # 如果用字典里没有的键访问数据，会输出错误\n",
    "print (\"dict['Alice']: \", dict['Alice'])"
   ]
  },
  {
   "cell_type": "code",
   "execution_count": 18,
   "metadata": {},
   "outputs": [
    {
     "ename": "TypeError",
     "evalue": "'type' object is not subscriptable",
     "output_type": "error",
     "traceback": [
      "\u001b[1;31m---------------------------------------------------------------------------\u001b[0m",
      "\u001b[1;31mTypeError\u001b[0m                                 Traceback (most recent call last)",
      "\u001b[1;32m<ipython-input-18-aa18828ed86a>\u001b[0m in \u001b[0;36m<module>\u001b[1;34m\u001b[0m\n\u001b[0;32m      7\u001b[0m \u001b[1;32mdel\u001b[0m \u001b[0mdict\u001b[0m                                               \u001b[1;31m# 删除字典\u001b[0m\u001b[1;33m\u001b[0m\u001b[1;33m\u001b[0m\u001b[0m\n\u001b[0;32m      8\u001b[0m \u001b[1;33m\u001b[0m\u001b[0m\n\u001b[1;32m----> 9\u001b[1;33m \u001b[0mprint\u001b[0m \u001b[1;33m(\u001b[0m\u001b[1;34m\"dict['Age']: \"\u001b[0m\u001b[1;33m,\u001b[0m \u001b[0mdict\u001b[0m\u001b[1;33m[\u001b[0m\u001b[1;34m'Age'\u001b[0m\u001b[1;33m]\u001b[0m\u001b[1;33m)\u001b[0m\u001b[1;33m\u001b[0m\u001b[1;33m\u001b[0m\u001b[0m\n\u001b[0m\u001b[0;32m     10\u001b[0m \u001b[0mprint\u001b[0m \u001b[1;33m(\u001b[0m\u001b[1;34m\"dict['School']: \"\u001b[0m\u001b[1;33m,\u001b[0m \u001b[0mdict\u001b[0m\u001b[1;33m[\u001b[0m\u001b[1;34m'School'\u001b[0m\u001b[1;33m]\u001b[0m\u001b[1;33m)\u001b[0m             \u001b[1;31m# 这会引发一个异常，因为用执行 del 操作后字典不再存在\u001b[0m\u001b[1;33m\u001b[0m\u001b[1;33m\u001b[0m\u001b[0m\n",
      "\u001b[1;31mTypeError\u001b[0m: 'type' object is not subscriptable"
     ]
    }
   ],
   "source": [
    "## Python3 字典\n",
    "# 删除字典元素\n",
    "dict = {'Name': 'Runoob', 'Age': 7, 'Class': 'First'}  # 显示删除一个字典用del命令\n",
    " \n",
    "del dict['Name']                                       # 删除键 'Name'\n",
    "dict.clear()                                           # 清空字典\n",
    "del dict                                               # 删除字典\n",
    " \n",
    "print (\"dict['Age']: \", dict['Age'])\n",
    "print (\"dict['School']: \", dict['School'])             # 这会引发一个异常，因为用执行 del 操作后字典不再存在"
   ]
  },
  {
   "cell_type": "code",
   "execution_count": 19,
   "metadata": {},
   "outputs": [
    {
     "name": "stdout",
     "output_type": "stream",
     "text": [
      "dict['Name']:  小菜鸟\n"
     ]
    }
   ],
   "source": [
    "## Python3 字典\n",
    "# 字典键的特性\n",
    "dict = {'Name': 'Runoob', 'Age': 7, 'Name': '小菜鸟'}\n",
    "                                                     # 不允许同一个键出现两次。创建时如果同一个键被赋值两次，后一个值会被记住\n",
    "print (\"dict['Name']: \", dict['Name'])"
   ]
  },
  {
   "cell_type": "code",
   "execution_count": 20,
   "metadata": {},
   "outputs": [
    {
     "ename": "TypeError",
     "evalue": "unhashable type: 'list'",
     "output_type": "error",
     "traceback": [
      "\u001b[1;31m---------------------------------------------------------------------------\u001b[0m",
      "\u001b[1;31mTypeError\u001b[0m                                 Traceback (most recent call last)",
      "\u001b[1;32m<ipython-input-20-10da6cc64b30>\u001b[0m in \u001b[0;36m<module>\u001b[1;34m\u001b[0m\n\u001b[0;32m      1\u001b[0m \u001b[1;31m## Python3 字典\u001b[0m\u001b[1;33m\u001b[0m\u001b[1;33m\u001b[0m\u001b[1;33m\u001b[0m\u001b[0m\n\u001b[0;32m      2\u001b[0m \u001b[1;31m# 字典键的特性\u001b[0m\u001b[1;33m\u001b[0m\u001b[1;33m\u001b[0m\u001b[1;33m\u001b[0m\u001b[0m\n\u001b[1;32m----> 3\u001b[1;33m \u001b[0mdict\u001b[0m \u001b[1;33m=\u001b[0m \u001b[1;33m{\u001b[0m\u001b[1;33m[\u001b[0m\u001b[1;34m'Name'\u001b[0m\u001b[1;33m]\u001b[0m\u001b[1;33m:\u001b[0m \u001b[1;34m'Runoob'\u001b[0m\u001b[1;33m,\u001b[0m \u001b[1;34m'Age'\u001b[0m\u001b[1;33m:\u001b[0m \u001b[1;36m7\u001b[0m\u001b[1;33m}\u001b[0m\u001b[1;33m\u001b[0m\u001b[1;33m\u001b[0m\u001b[0m\n\u001b[0m\u001b[0;32m      4\u001b[0m                                                     \u001b[1;31m# 键必须不可变，所以可以用数字，字符串或元组充当，而用列表就不行\u001b[0m\u001b[1;33m\u001b[0m\u001b[1;33m\u001b[0m\u001b[1;33m\u001b[0m\u001b[0m\n\u001b[0;32m      5\u001b[0m \u001b[0mprint\u001b[0m \u001b[1;33m(\u001b[0m\u001b[1;34m\"dict['Name']: \"\u001b[0m\u001b[1;33m,\u001b[0m \u001b[0mdict\u001b[0m\u001b[1;33m[\u001b[0m\u001b[1;34m'Name'\u001b[0m\u001b[1;33m]\u001b[0m\u001b[1;33m)\u001b[0m\u001b[1;33m\u001b[0m\u001b[1;33m\u001b[0m\u001b[0m\n",
      "\u001b[1;31mTypeError\u001b[0m: unhashable type: 'list'"
     ]
    }
   ],
   "source": [
    "## Python3 字典\n",
    "# 字典键的特性\n",
    "dict = {['Name']: 'Runoob', 'Age': 7}\n",
    "                                                    # 键必须不可变，所以可以用数字，字符串或元组充当，而用列表就不行\n",
    "print (\"dict['Name']: \", dict['Name'])"
   ]
  },
  {
   "cell_type": "code",
   "execution_count": 21,
   "metadata": {},
   "outputs": [
    {
     "name": "stdout",
     "output_type": "stream",
     "text": [
      "输入名字:杨孟姣\n",
      "输入分数:91\n",
      "继续输入？\n",
      " 1/继续  0/退出1\n",
      "输入名字:杨孟姣\n",
      "输入分数:100\n",
      "继续输入？\n",
      " 1/继续  0/退出0\n",
      "-----name  rate-----\n",
      "------杨孟姣 100  A------\n"
     ]
    }
   ],
   "source": [
    "## Python3 字典\n",
    "# 课后笔记\n",
    "students= {}                                     # 用字典记录学生名字和分数，再分级\n",
    "write = 1\n",
    "while write :\n",
    "    name = str(input('输入名字:'))\n",
    "    grade = int(input('输入分数:'))\n",
    "    students[str(name)] = grade\n",
    "    write= int(input('继续输入？\\n 1/继续  0/退出'))\n",
    "print('name  rate'.center(20,'-'))\n",
    "for key,value in students.items():\n",
    "    if value >= 90:\n",
    "        print('%s %s  A'.center(20,'-')%(key,value))\n",
    "    elif 89 > value >= 60 :\n",
    "        print('%s %s  B'.center(20,'-')%(key,value))\n",
    "    else:\n",
    "        print('%s %s  C'.center(20,'-')%(key,value))"
   ]
  },
  {
   "cell_type": "code",
   "execution_count": 23,
   "metadata": {},
   "outputs": [
    {
     "name": "stdout",
     "output_type": "stream",
     "text": [
      "{'banana', 'orange', 'pear', 'apple'}\n"
     ]
    },
    {
     "data": {
      "text/plain": [
       "{'b', 'd', 'l', 'm', 'r', 'z'}"
      ]
     },
     "execution_count": 23,
     "metadata": {},
     "output_type": "execute_result"
    }
   ],
   "source": [
    "## Python3 集合\n",
    "# 脚本模式实例\n",
    "basket = {'apple', 'orange', 'apple', 'pear', 'orange', 'banana'}\n",
    "print(basket)                                  # 这里演示的是去重功能\n",
    "{'orange', 'banana', 'pear', 'apple'}\n",
    "'orange' in basket                             # 快速判断元素是否在集合内\n",
    "True\n",
    "'crabgrass' in basket\n",
    "False\n",
    "                                               # 下面展示两个集合间的运算.\n",
    "...\n",
    "a = set('abracadabra')\n",
    "b = set('alacazam')\n",
    "a                                  \n",
    "{'a', 'r', 'b', 'c', 'd'}\n",
    "a - b                                          # 集合a中包含而集合b中不包含的元素\n",
    "{'r', 'd', 'b'}\n",
    "a | b                                          # 集合a或b中包含的所有元素\n",
    "{'a', 'c', 'r', 'd', 'b', 'm', 'z', 'l'}\n",
    "a & b                                          # 集合a和b中都包含了的元素\n",
    "{'a', 'c'}\n",
    "a ^ b                                          # 不同时包含于a和b的元素\n",
    "{'r', 'd', 'b', 'm', 'z', 'l'}"
   ]
  },
  {
   "cell_type": "code",
   "execution_count": 24,
   "metadata": {},
   "outputs": [
    {
     "data": {
      "text/plain": [
       "{'d', 'r'}"
      ]
     },
     "execution_count": 24,
     "metadata": {},
     "output_type": "execute_result"
    }
   ],
   "source": [
    "## Python3 集合\n",
    "# 脚本模式实例\n",
    "a = {x for x in 'abracadabra' if x not in 'abc'}\n",
    "a\n",
    "{'r', 'd'}"
   ]
  },
  {
   "cell_type": "code",
   "execution_count": 25,
   "metadata": {},
   "outputs": [
    {
     "name": "stdout",
     "output_type": "stream",
     "text": [
      "{'Google', 'Taobao', 'Runoob', 'Facebook'}\n"
     ]
    }
   ],
   "source": [
    "## Python3 集合\n",
    "# 添加元素\n",
    "thisset = set((\"Google\", \"Runoob\", \"Taobao\")) # 将元素 x 添加到集合 s 中，如果元素已存在，则不进行任何操作\n",
    "thisset.add(\"Facebook\")\n",
    "print(thisset)"
   ]
  },
  {
   "cell_type": "code",
   "execution_count": 26,
   "metadata": {},
   "outputs": [
    {
     "name": "stdout",
     "output_type": "stream",
     "text": [
      "{1, 3, 'Taobao', 'Google', 'Runoob'}\n",
      "{1, 3, 'Taobao', 4, 5, 6, 'Google', 'Runoob'}\n"
     ]
    }
   ],
   "source": [
    "## Python3 集合\n",
    "# 添加元素\n",
    "thisset = set((\"Google\", \"Runoob\", \"Taobao\"))\n",
    "thisset.update({1,3})                         # x 可以有多个，用逗号分开\n",
    "print(thisset)\n",
    "{1, 3, 'Google', 'Taobao', 'Runoob'}\n",
    "thisset.update([1,4],[5,6])  \n",
    "print(thisset)"
   ]
  },
  {
   "cell_type": "code",
   "execution_count": 27,
   "metadata": {},
   "outputs": [
    {
     "name": "stdout",
     "output_type": "stream",
     "text": [
      "Google\n"
     ]
    }
   ],
   "source": [
    "## Python3 集合\n",
    "# 脚本模式实例\n",
    "thisset = set((\"Google\", \"Runoob\", \"Taobao\", \"Facebook\"))\n",
    "x = thisset.pop()\n",
    " \n",
    "print(x)"
   ]
  },
  {
   "cell_type": "code",
   "execution_count": 28,
   "metadata": {},
   "outputs": [
    {
     "data": {
      "text/plain": [
       "3"
      ]
     },
     "execution_count": 28,
     "metadata": {},
     "output_type": "execute_result"
    }
   ],
   "source": [
    "## Python3 集合\n",
    "# 计算集合元素个数\n",
    "thisset = set((\"Google\", \"Runoob\", \"Taobao\"))\n",
    "len(thisset)                                 # 计算集合 s 元素个数"
   ]
  },
  {
   "cell_type": "code",
   "execution_count": 29,
   "metadata": {},
   "outputs": [
    {
     "name": "stdout",
     "output_type": "stream",
     "text": [
      "set()\n"
     ]
    }
   ],
   "source": [
    "## Python3 集合\n",
    "# 清空集合\n",
    "thisset = set((\"Google\", \"Runoob\", \"Taobao\"))\n",
    "thisset.clear()                              # 清空集合 s\n",
    "print(thisset)"
   ]
  },
  {
   "cell_type": "code",
   "execution_count": 30,
   "metadata": {},
   "outputs": [
    {
     "data": {
      "text/plain": [
       "False"
      ]
     },
     "execution_count": 30,
     "metadata": {},
     "output_type": "execute_result"
    }
   ],
   "source": [
    "## Python3 集合\n",
    "# 判断元素是否在集合中存在\n",
    "thisset = set((\"Google\", \"Runoob\", \"Taobao\"))\n",
    "\"Runoob\" in thisset\n",
    "True\n",
    "\"Facebook\" in thisset                        # 判断元素 x 是否在集合 s 中，存在返回 True，不存在返回 False\n",
    "False"
   ]
  },
  {
   "cell_type": "code",
   "execution_count": 31,
   "metadata": {},
   "outputs": [
    {
     "name": "stdout",
     "output_type": "stream",
     "text": [
      "{1, 2, 4, 5, 6, 7, 8, 9}\n",
      "1\n",
      "{2, 4, 5, 6, 7, 8, 9}\n"
     ]
    }
   ],
   "source": [
    "## Python3 集合\n",
    "# 课后笔记\n",
    "# 列表实例\n",
    "set1 = set([9,4,5,2,6,7,1,8])\n",
    "print(set1)                                 # set.pop() 是从左边删除元素的\n",
    "print(set1.pop())\n",
    "print(set1)"
   ]
  },
  {
   "cell_type": "code",
   "execution_count": 32,
   "metadata": {},
   "outputs": [
    {
     "name": "stdout",
     "output_type": "stream",
     "text": [
      "{0, 1, 2, 3, 6, 7, 8, 9}\n",
      "0\n",
      "{1, 2, 3, 6, 7, 8, 9}\n"
     ]
    }
   ],
   "source": [
    "## Python3 集合\n",
    "# 课后笔记\n",
    "# 元组实例\n",
    "set1 = set((6,3,1,7,2,9,8,0))\n",
    "print(set1)                                 # set.pop() 是从左边删除元素的\n",
    "print(set1.pop())\n",
    "print(set1)"
   ]
  },
  {
   "cell_type": "code",
   "execution_count": 33,
   "metadata": {},
   "outputs": [
    {
     "name": "stdout",
     "output_type": "stream",
     "text": [
      "1\n",
      "1\n",
      "2\n",
      "3\n",
      "5\n",
      "8\n"
     ]
    }
   ],
   "source": [
    "## Python3 编程第一步\n",
    "# Fibonacci series: 斐波纳契数列\n",
    "                                            # 两个元素的总和确定了下一个数\n",
    "a, b = 0, 1\n",
    "while b < 10:\n",
    "    print(b)\n",
    "    a, b = b, a+b                          # 其中代码 a, b = b, a+b 的计算方式为先计算右边表达式，然后同时赋值给左边，等价于：\n",
    "                                           # n=b、m=a+b、a=n、b=m"
   ]
  },
  {
   "cell_type": "code",
   "execution_count": 34,
   "metadata": {},
   "outputs": [
    {
     "name": "stdout",
     "output_type": "stream",
     "text": [
      "i 的值为： 65536\n"
     ]
    }
   ],
   "source": [
    "## Python3 编程第一步\n",
    "# 输出变量值\n",
    "i = 256*256\n",
    "print('i 的值为：', i)"
   ]
  },
  {
   "cell_type": "code",
   "execution_count": 35,
   "metadata": {},
   "outputs": [
    {
     "name": "stdout",
     "output_type": "stream",
     "text": [
      "1,1,2,3,5,8,13,21,34,55,89,144,233,377,610,987,"
     ]
    }
   ],
   "source": [
    "## Python3 编程第一步\n",
    "# end 关键字\n",
    "                                          # 两个元素的总和确定了下一个数\n",
    "a, b = 0, 1\n",
    "while b < 1000:\n",
    "    print(b, end=',')                     # 关键字end可以用于将结果输出到同一行，或者在输出的末尾添加不同的字符\n",
    "    a, b = b, a+b"
   ]
  },
  {
   "cell_type": "code",
   "execution_count": 36,
   "metadata": {},
   "outputs": [
    {
     "name": "stdout",
     "output_type": "stream",
     "text": [
      "输入一个大于 0 的整数: 3\n",
      "2\n"
     ]
    }
   ],
   "source": [
    "## Python3 编程第一步\n",
    "# 课后笔记\n",
    "                                         # 取斐波那契数列第 n 项也可不必用递归\n",
    "                                         # 非递归算法求解第n项数斐波那契数列\n",
    "a, b, i = 0, 1, 0\n",
    "result = [ ]\n",
    "n = int(input('输入一个大于 0 的整数: '))\n",
    "while i < n:\n",
    "    result.append(b)\n",
    "    a, b = b, a+b\n",
    "    i += 1\n",
    "print(result[n-1])"
   ]
  },
  {
   "cell_type": "code",
   "execution_count": 37,
   "metadata": {},
   "outputs": [
    {
     "name": "stdout",
     "output_type": "stream",
     "text": [
      "请输入一个整数:34\n",
      "5702887\n",
      "运行时间:2.51秒\n",
      "5702887\n",
      "运行时间:0.00秒\n"
     ]
    }
   ],
   "source": [
    "## Python3 编程第一步\n",
    "# 课后笔记\n",
    "                                         # 关于递归和两个变量计算斐波那契\n",
    "import time\n",
    "                                         #计算递归斐波那契时间消耗\n",
    "n=int(input('请输入一个整数:'))\n",
    "start = time.time()\n",
    "def fab(n):\n",
    "    if n<1:\n",
    "        print('输入有误！')\n",
    "        return -1    \n",
    "    if n==1 or n==2:\n",
    "        return 1    \n",
    "    else:\n",
    "        return fab(n-1)+fab(n-2)\n",
    "print(fab(n))\n",
    "end = time.time()\n",
    "print(\"运行时间:%.2f秒\"%(end-start))\n",
    "                                          #计算两个变量时间消耗\n",
    "start = time.time()\n",
    "a, b = 0, 1\n",
    "cn = 1\n",
    "while cn < n:\n",
    "    a, b = b, a+b\n",
    "    cn += 1\n",
    "print(b)\n",
    "end = time.time()\n",
    "print(\"运行时间:%.2f秒\"%(end-start))"
   ]
  },
  {
   "cell_type": "code",
   "execution_count": null,
   "metadata": {},
   "outputs": [],
   "source": []
  }
 ],
 "metadata": {
  "kernelspec": {
   "display_name": "Python 3",
   "language": "python",
   "name": "python3"
  },
  "language_info": {
   "codemirror_mode": {
    "name": "ipython",
    "version": 3
   },
   "file_extension": ".py",
   "mimetype": "text/x-python",
   "name": "python",
   "nbconvert_exporter": "python",
   "pygments_lexer": "ipython3",
   "version": "3.7.3"
  }
 },
 "nbformat": 4,
 "nbformat_minor": 2
}
