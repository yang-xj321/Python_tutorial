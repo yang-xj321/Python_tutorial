{
 "cells": [
  {
   "cell_type": "code",
   "execution_count": 1,
   "metadata": {},
   "outputs": [
    {
     "name": "stdout",
     "output_type": "stream",
     "text": [
      "命令行参数如下:\n",
      "C:\\ProgramData\\Anaconda3\\lib\\site-packages\\ipykernel_launcher.py\n",
      "-f\n",
      "C:\\Users\\dell\\AppData\\Roaming\\jupyter\\runtime\\kernel-fce76f95-3c41-4261-8a06-66833ee3b305.json\n",
      "\n",
      "\n",
      "Python 路径为： ['C:\\\\Users\\\\dell', 'C:\\\\ProgramData\\\\Anaconda3\\\\python37.zip', 'C:\\\\ProgramData\\\\Anaconda3\\\\DLLs', 'C:\\\\ProgramData\\\\Anaconda3\\\\lib', 'C:\\\\ProgramData\\\\Anaconda3', '', 'C:\\\\ProgramData\\\\Anaconda3\\\\lib\\\\site-packages', 'C:\\\\ProgramData\\\\Anaconda3\\\\lib\\\\site-packages\\\\win32', 'C:\\\\ProgramData\\\\Anaconda3\\\\lib\\\\site-packages\\\\win32\\\\lib', 'C:\\\\ProgramData\\\\Anaconda3\\\\lib\\\\site-packages\\\\Pythonwin', 'C:\\\\ProgramData\\\\Anaconda3\\\\lib\\\\site-packages\\\\IPython\\\\extensions', 'C:\\\\Users\\\\dell\\\\.ipython'] \n",
      "\n"
     ]
    }
   ],
   "source": [
    "#Python3 模块\n",
    "#!/usr/bin/python3\n",
    "# 文件名: using_sys.py\n",
    " \n",
    "import sys\n",
    " \n",
    "print('命令行参数如下:')\n",
    "for i in sys.argv:\n",
    "   print(i)\n",
    " \n",
    "print('\\n\\nPython 路径为：', sys.path, '\\n')"
   ]
  },
  {
   "cell_type": "code",
   "execution_count": 2,
   "metadata": {},
   "outputs": [
    {
     "name": "stdout",
     "output_type": "stream",
     "text": [
      "程序自身在运行\n"
     ]
    }
   ],
   "source": [
    "#__name__属性\n",
    "#!/usr/bin/python3\n",
    "# Filename: using_name.py\n",
    "\n",
    "if __name__ == '__main__':\n",
    "   print('程序自身在运行')\n",
    "else:\n",
    "   print('我来自另一模块')"
   ]
  },
  {
   "cell_type": "code",
   "execution_count": 3,
   "metadata": {},
   "outputs": [
    {
     "ename": "SyntaxError",
     "evalue": "invalid character in identifier (<ipython-input-3-fe4acb5fcfcf>, line 12)",
     "output_type": "error",
     "traceback": [
      "\u001b[1;36m  File \u001b[1;32m\"<ipython-input-3-fe4acb5fcfcf>\"\u001b[1;36m, line \u001b[1;32m12\u001b[0m\n\u001b[1;33m    x 的值为： 32.5,  y 的值为：40000...\u001b[0m\n\u001b[1;37m         ^\u001b[0m\n\u001b[1;31mSyntaxError\u001b[0m\u001b[1;31m:\u001b[0m invalid character in identifier\n"
     ]
    }
   ],
   "source": [
    "#Python3 输入和输出\n",
    ">>> s = 'Hello, Runoob'\n",
    ">>> str(s)#str()： 函数返回一个用户易读的表达形式。 \n",
    "'Hello, Runoob'\n",
    ">>> repr(s)#repr()： 产生一个解释器易读的表达形式。\n",
    "\"'Hello, Runoob'\"\n",
    ">>> str(1/7)\n",
    "'0.14285714285714285'\n",
    ">>> x = 10 * 3.25\n",
    ">>> y = 200 * 200\n",
    ">>> s = 'x 的值为： ' + repr(x) + ',  y 的值为：' + repr(y) + '...'\n",
    ">>> print(s)\n",
    "x 的值为： 32.5,  y 的值为：40000...\n",
    ">>> #  repr() 函数可以转义字符串中的特殊字符\n",
    "... hello = 'hello, runoob\\n'\n",
    ">>> hellos = repr(hello)\n",
    ">>> print(hellos)\n",
    "'hello, runoob\\n'\n",
    ">>> # repr() 的参数可以是 Python 的任何对象\n",
    "... repr((x, y, ('Google', 'Runoob')))\n",
    "\"(32.5, 40000, ('Google', 'Runoob'))\""
   ]
  },
  {
   "cell_type": "code",
   "execution_count": 4,
   "metadata": {},
   "outputs": [
    {
     "name": "stdout",
     "output_type": "stream",
     "text": [
      "请输入：菜鸟教程\n",
      "你输入的内容是:  菜鸟教程\n"
     ]
    }
   ],
   "source": [
    "#读取键盘输入\n",
    "\n",
    "#!/usr/bin/python3\n",
    "\n",
    "str = input(\"请输入：\");#Python提供了 input() 内置函数从标准输入读入一行文本，默认的标准输入是键盘。\n",
    "print (\"你输入的内容是: \", str)#input 可以接收一个Python表达式作为输入，并将运算结果返回。 "
   ]
  },
  {
   "cell_type": "code",
   "execution_count": 5,
   "metadata": {},
   "outputs": [
    {
     "ename": "FileNotFoundError",
     "evalue": "[Errno 2] No such file or directory: '/tmp/foo.txt'",
     "output_type": "error",
     "traceback": [
      "\u001b[1;31m---------------------------------------------------------------------------\u001b[0m",
      "\u001b[1;31mFileNotFoundError\u001b[0m                         Traceback (most recent call last)",
      "\u001b[1;32m<ipython-input-5-52e97933d642>\u001b[0m in \u001b[0;36m<module>\u001b[1;34m\u001b[0m\n\u001b[0;32m      2\u001b[0m \u001b[1;33m\u001b[0m\u001b[0m\n\u001b[0;32m      3\u001b[0m \u001b[1;31m# 打开一个文件\u001b[0m\u001b[1;33m\u001b[0m\u001b[1;33m\u001b[0m\u001b[1;33m\u001b[0m\u001b[0m\n\u001b[1;32m----> 4\u001b[1;33m \u001b[0mf\u001b[0m \u001b[1;33m=\u001b[0m \u001b[0mopen\u001b[0m\u001b[1;33m(\u001b[0m\u001b[1;34m\"/tmp/foo.txt\"\u001b[0m\u001b[1;33m,\u001b[0m \u001b[1;34m\"w\"\u001b[0m\u001b[1;33m)\u001b[0m\u001b[1;33m\u001b[0m\u001b[1;33m\u001b[0m\u001b[0m\n\u001b[0m\u001b[0;32m      5\u001b[0m \u001b[1;33m\u001b[0m\u001b[0m\n\u001b[0;32m      6\u001b[0m \u001b[0mf\u001b[0m\u001b[1;33m.\u001b[0m\u001b[0mwrite\u001b[0m\u001b[1;33m(\u001b[0m \u001b[1;34m\"Python 是一个非常好的语言。\\n是的，的确非常好!!\\n\"\u001b[0m \u001b[1;33m)\u001b[0m\u001b[1;33m\u001b[0m\u001b[1;33m\u001b[0m\u001b[0m\n",
      "\u001b[1;31mFileNotFoundError\u001b[0m: [Errno 2] No such file or directory: '/tmp/foo.txt'"
     ]
    }
   ],
   "source": [
    "#将字符串写入到文件 foo.txt 中：\n",
    "#!/usr/bin/python3\n",
    "\n",
    "# 打开一个文件\n",
    "f = open(\"/tmp/foo.txt\", \"w\")\n",
    "\n",
    "f.write( \"Python 是一个非常好的语言。\\n是的，的确非常好!!\\n\" )\n",
    "\n",
    "# 关闭打开的文件\n",
    "f.close()"
   ]
  },
  {
   "cell_type": "code",
   "execution_count": 6,
   "metadata": {},
   "outputs": [
    {
     "ename": "FileNotFoundError",
     "evalue": "[Errno 2] No such file or directory: '/tmp/foo.txt'",
     "output_type": "error",
     "traceback": [
      "\u001b[1;31m---------------------------------------------------------------------------\u001b[0m",
      "\u001b[1;31mFileNotFoundError\u001b[0m                         Traceback (most recent call last)",
      "\u001b[1;32m<ipython-input-6-9651d8fdbe76>\u001b[0m in \u001b[0;36m<module>\u001b[1;34m\u001b[0m\n\u001b[0;32m      2\u001b[0m \u001b[1;33m\u001b[0m\u001b[0m\n\u001b[0;32m      3\u001b[0m \u001b[1;31m# 打开一个文件\u001b[0m\u001b[1;33m\u001b[0m\u001b[1;33m\u001b[0m\u001b[1;33m\u001b[0m\u001b[0m\n\u001b[1;32m----> 4\u001b[1;33m \u001b[0mf\u001b[0m \u001b[1;33m=\u001b[0m \u001b[0mopen\u001b[0m\u001b[1;33m(\u001b[0m\u001b[1;34m\"/tmp/foo.txt\"\u001b[0m\u001b[1;33m,\u001b[0m \u001b[1;34m\"r\"\u001b[0m\u001b[1;33m)\u001b[0m\u001b[1;33m\u001b[0m\u001b[1;33m\u001b[0m\u001b[0m\n\u001b[0m\u001b[0;32m      5\u001b[0m \u001b[1;33m\u001b[0m\u001b[0m\n\u001b[0;32m      6\u001b[0m \u001b[0mstr\u001b[0m \u001b[1;33m=\u001b[0m \u001b[0mf\u001b[0m\u001b[1;33m.\u001b[0m\u001b[0mread\u001b[0m\u001b[1;33m(\u001b[0m\u001b[1;33m)\u001b[0m\u001b[1;33m\u001b[0m\u001b[1;33m\u001b[0m\u001b[0m\n",
      "\u001b[1;31mFileNotFoundError\u001b[0m: [Errno 2] No such file or directory: '/tmp/foo.txt'"
     ]
    }
   ],
   "source": [
    "#文件对象的方法\n",
    "#f.read()为了读取一个文件的内容，调用 f.read(size), 这将读取一定数目的数据, 然后作为字符串或字节对象返回。\n",
    "#!/usr/bin/python3\n",
    "#假定文件 foo.txt 已存在。\n",
    "# 打开一个文件\n",
    "f = open(\"/tmp/foo.txt\", \"r\")\n",
    "\n",
    "str = f.read()\n",
    "print(str)\n",
    "\n",
    "# 关闭打开的文件\n",
    "f.close()"
   ]
  },
  {
   "cell_type": "code",
   "execution_count": null,
   "metadata": {},
   "outputs": [],
   "source": [
    "#!/usr/bin/python3\n",
    "\n",
    "import os\n",
    "import os.path\n",
    "\n",
    "#path = 'D:/UC/'\n",
    "ls = []\n",
    "\n",
    "def getAppointFile(path,ls):\n",
    "    fileList = os.listdir(path)\n",
    "    try:\n",
    "        for tmp in fileList:\n",
    "            pathTmp = os.path.join(path,tmp)\n",
    "            if True==os.path.isdir(pathTmp):\n",
    "                getAppointFile(pathTmp,ls)\n",
    "            elif pathTmp[pathTmp.rfind('.')+1:].upper()=='PY':\n",
    "                ls.append(pathTmp)\n",
    "    except PermissionError:\n",
    "        pass\n",
    "\n",
    "def main():\n",
    "\n",
    "    while True:\n",
    "        path = input('请输入路径:').strip()\n",
    "        if os.path.isdir(path) == True:\n",
    "            break\n",
    "\n",
    "    getAppointFile(path,ls)\n",
    "    #print(len(ls))\n",
    "    print(ls)\n",
    "    print(len(ls))\n",
    "\n",
    "main()"
   ]
  },
  {
   "cell_type": "code",
   "execution_count": null,
   "metadata": {},
   "outputs": [],
   "source": [
    "import os\n",
    "import os.path\n",
    "\"\"\"获取指定目录及其子目录下的 py 文件路径说明：l 用于存储找到的 py 文件路径 get_py 函数，递归查找并存储 py 文件路径于 l\"\"\"\n",
    "l = []\n",
    "def get_py(path,l):\n",
    "    fileList = os.listdir(path)   #获取path目录下所有文件\n",
    "    for filename in fileList:\n",
    "        pathTmp = os.path.join(path,filename)   #获取path与filename组合后的路径\n",
    "        if os.path.isdir(pathTmp):   #如果是目录\n",
    "            get_py(pathTmp,l)        #则递归查找\n",
    "        elif filename[-3:].upper()=='.PY':   #不是目录,则比较后缀名\n",
    "            l.append(pathTmp)\n",
    "path = input('请输入路径:').strip()\n",
    "get_py(path,l)\n",
    "print('在%s目录及其子目录下找到%d个py文件\\n分别为：\\n'%(path,len(l)))\n",
    "for filepath in l:\n",
    "    print(filepath+'\\n')"
   ]
  },
  {
   "cell_type": "code",
   "execution_count": null,
   "metadata": {},
   "outputs": [],
   "source": []
  }
 ],
 "metadata": {
  "kernelspec": {
   "display_name": "Python 3",
   "language": "python",
   "name": "python3"
  },
  "language_info": {
   "codemirror_mode": {
    "name": "ipython",
    "version": 3
   },
   "file_extension": ".py",
   "mimetype": "text/x-python",
   "name": "python",
   "nbconvert_exporter": "python",
   "pygments_lexer": "ipython3",
   "version": "3.7.4"
  }
 },
 "nbformat": 4,
 "nbformat_minor": 2
}
